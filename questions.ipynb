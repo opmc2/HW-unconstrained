{
 "cells": [
  {
   "cell_type": "markdown",
   "metadata": {},
   "source": [
    "# Probit Maximum Likelihood\n",
    "\n",
    "In this homework you should implement the maximum likelihood estimator for the probit model. To remind you, this model is defined as follows:\n",
    "    $$\n",
    "    \\begin{align}  \n",
    "    y_i  &\\in \\{0,1\\} \\\\\n",
    "    \\Pr\\{y_i=1\\} &= \\Phi(x_i \\beta) \\\\\n",
    "    L(\\beta)   & = \\Pi_{i=1}^N  \\Phi(x_i \\beta)^{y_i} (1-\\Phi(x_i \\beta))^{1-y_i} \\\\\n",
    "    \\beta  & \\in \\mathbb{R}^k \\\\\n",
    "    x_i  & \\sim N\\left([0,0,0],\\left[ \\begin{array}{ccc} 1 & 0 & 0 \\\\ 0 & 1 & 0 \\\\ 0 & 0 & 1\\end{array} \\right] \\right) \\\\\n",
    "    k & = 3 \n",
    "    \\end{align}\n",
    "    $$\n",
    "    \n",
    "Where $\\Phi$ is the standard Normal cdf. Think of $x_i$ as a row-vector. You should proceed as follows:\n",
    "\n",
    "1. define a data generating function with default argument `N=10000`, generating `N` simulated data points from this model. Generate the data using $\\beta=[1,1.5,-0.5]$. The function should return a `Dict` as outlined in the code.\n",
    "1. Define the log likelihood function, $l(\\beta) = \\log(L)$\n",
    "1. Write a function `plotLike` to plot the log likelihood function for different parameter values. Follow the outline of that function.\n",
    "1. Define the function `maximize_like`. this should optimize your log likelihood function.\n",
    "1. (Optional) Define the gradient of the log likelihood function and use it in another optimization `maximize_like_grad`.\n",
    "1. (Optional) Define the hessian of the log likelihood function and use it in another optimization `maximize_like_grad_hess`.\n",
    "1. (Optional) Use the hessian of the log likelihood function to compute the standard errors of your estimates and use it in `maximize_like_grad_se`\n",
    "\n",
    "## Tests\n",
    "\n",
    "* The code comes with a test suite that you should fill out. \n",
    "* There are some example tests, you should make those work and maybe add other ones. \n",
    "* Please do not change anything in the file structure."
   ]
  },
  {
   "cell_type": "code",
   "execution_count": 75,
   "metadata": {
    "collapsed": false
   },
   "outputs": [
    {
     "name": "stderr",
     "output_type": "stream",
     "text": [
      "WARNING: Method definition makeData() in module Main at In[2]:6 overwritten at In[75]:6.\n",
      "WARNING: Method definition makeData(Any) in module Main at In[2]:6 overwritten at In[75]:6.\n",
      "WARNING: Method definition makeData(Any, Any) in module Main at In[2]:6 overwritten at In[75]:6.\n",
      "WARNING: Method definition makeData(Any, Any, Any) in module Main at In[2]:6 overwritten at In[75]:6.\n"
     ]
    },
    {
     "data": {
      "text/plain": [
       "makeData (generic function with 4 methods)"
      ]
     },
     "execution_count": 75,
     "metadata": {},
     "output_type": "execute_result"
    }
   ],
   "source": [
    "using Distributions, Optim, Plots, DataFrames\n",
    "pyplot()\n",
    "\n",
    "# data generating function\n",
    "function makeData(n=10000::Int, beta = [ 1; 1.5; -0.5 ]::Vector, k=3::Int)\n",
    "    X = rand(MvNormal(eye(k)),n) # define X\n",
    "    y = Array{Int}(n) #empty y\n",
    "    for i in 1:n # define binomial y\n",
    "        y[i] = rand(Bernoulli(cdf(Normal(),dot(X[:,i]',beta))))\n",
    "    end\n",
    "    # return a dict with beta,numobs,X,y,norm)\n",
    "    return Dict(\"beta\" => beta, \"numobs\" => n, \"X\" => X, \"y\" => y, \"dist\" => Normal())\n",
    "    #return beta, X, y\n",
    "end"
   ]
  },
  {
   "cell_type": "code",
   "execution_count": 76,
   "metadata": {
    "collapsed": false
   },
   "outputs": [
    {
     "data": {
      "text/plain": [
       "Dict{String,Any} with 5 entries:\n",
       "  \"y\"      => [0,0,0,0,1,0,1,1,0,0  …  1,1,1,1,1,1,1,1,1,0]\n",
       "  \"X\"      => [1.1672 -0.558674 … -0.941077 -0.427729; -0.975839 0.16388 … -0.1…\n",
       "  \"numobs\" => 10000\n",
       "  \"dist\"   => Distributions.Normal{Float64}(μ=0.0, σ=1.0)\n",
       "  \"beta\"   => [1.0,1.5,-0.5]"
      ]
     },
     "execution_count": 76,
     "metadata": {},
     "output_type": "execute_result"
    }
   ],
   "source": [
    "d = makeData()\n",
    "d"
   ]
  },
  {
   "cell_type": "code",
   "execution_count": 77,
   "metadata": {
    "collapsed": false
   },
   "outputs": [
    {
     "name": "stderr",
     "output_type": "stream",
     "text": [
      "WARNING: Method definition loglik2(Array{T<:Any, 1}, Base.Dict) in module Main at In[4]:2 overwritten at In[77]:2.\n",
      "WARNING: Method definition loglik(Array{T<:Any, 1}, Base.Dict) in module Main at In[4]:7 overwritten at In[77]:7.\n"
     ]
    },
    {
     "data": {
      "text/plain": [
       "(-3382.9248235119467,-3382.9248235119467)"
      ]
     },
     "execution_count": 77,
     "metadata": {},
     "output_type": "execute_result"
    }
   ],
   "source": [
    "function loglik2(beta::Vector, d::Dict)\n",
    "    l = sum(d[\"y\"][i]*log(cdf(d[\"dist\"],dot(d[\"X\"][:,i]',beta)))+(1-d[\"y\"][i])*log(1-cdf(d[\"dist\"],dot(d[\"X\"][:,i]',beta))) for i in 1:d[\"numobs\"])\n",
    "    return l\n",
    "end\n",
    "        \n",
    "function loglik(beta::Vector,d::Dict)\n",
    "    l = 0\n",
    "    for i in 1:d[\"numobs\"]\n",
    "        if d[\"y\"][i] == 1\n",
    "            l = l + log(cdf(d[\"dist\"],dot(d[\"X\"][:,i]',beta)))\n",
    "        else\n",
    "            l = l + log(1-cdf(d[\"dist\"],dot(d[\"X\"][:,i]',beta)))\n",
    "        #else\n",
    "            #println(\"y[$i] was not a zero or a one.\")\n",
    "            #break\n",
    "        end\n",
    "    end\n",
    "    return l\n",
    "end\n",
    "loglik(d[\"beta\"], d), loglik2(d[\"beta\"], d)\n",
    "#d[\"y\"][2] == 0"
   ]
  },
  {
   "cell_type": "code",
   "execution_count": 5,
   "metadata": {
    "collapsed": false
   },
   "outputs": [
    {
     "data": {
      "text/plain": [
       "plotLike (generic function with 1 method)"
      ]
     },
     "execution_count": 5,
     "metadata": {},
     "output_type": "execute_result"
    }
   ],
   "source": [
    "function plotLike()\n",
    "    d = makeData()\n",
    "    l1(x) = loglik([ x, d[\"beta\"][2], d[\"beta\"][3] ], d)\n",
    "    l2(x) = loglik([ d[\"beta\"][1], x, d[\"beta\"][3] ], d)\n",
    "    l3(x) = loglik([ d[\"beta\"][1], d[\"beta\"][2], x ], d)\n",
    "    #x1 = linspace(0, 1, 100)\n",
    "    plot1 = plot(linspace(0,2,100), l1, labels = \"Varying beta[1]\")\n",
    "    plot2 = plot(linspace(.5,2.5,100), l2, labels = \"Varying beta[2]\")\n",
    "    plot3 = plot(linspace(-1,0,100), l3, labels = \"Varying beta[3]\")\n",
    "    return plot(plot1, plot2, plot3)\n",
    "end"
   ]
  },
  {
   "cell_type": "code",
   "execution_count": 6,
   "metadata": {
    "collapsed": false
   },
   "outputs": [
    {
     "data": {
      "text/html": [
       "<img src=\"data:image/png;base64,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\" />"
      ]
     },
     "execution_count": 6,
     "metadata": {},
     "output_type": "execute_result"
    }
   ],
   "source": [
    "plotLike()"
   ]
  },
  {
   "cell_type": "code",
   "execution_count": 78,
   "metadata": {
    "collapsed": false
   },
   "outputs": [
    {
     "name": "stderr",
     "output_type": "stream",
     "text": [
      "WARNING: Method definition maximize_like() in module Main at In[7]:2 overwritten at In[78]:2.\n",
      "WARNING: Method definition maximize_like(Any) in module Main at In[7]:2 overwritten at In[78]:2.\n",
      "WARNING: Method definition maximize_like(Any, Any) in module Main at In[7]:2 overwritten at In[78]:2.\n"
     ]
    },
    {
     "data": {
      "text/plain": [
       "Results of Optimization Algorithm\n",
       " * Algorithm: Nelder-Mead\n",
       " * Starting Point: [0.8,1.0,-0.1]\n",
       " * Minimizer: [1.0161299901983813,1.50473477104214, ...]\n",
       " * Minimum: 3.382647e+03\n",
       " * Iterations: 98\n",
       " * Convergence: true\n",
       "   *  √(Σ(yᵢ-ȳ)²)/n < 1.0e-08: true\n",
       "   * Reached Maximum Number of Iterations: false\n",
       " * Objective Function Calls: 123"
      ]
     },
     "execution_count": 78,
     "metadata": {},
     "output_type": "execute_result"
    }
   ],
   "source": [
    "function maximize_like(x0=[0.8,1.0,-0.1],meth=NelderMead())\n",
    "    d = makeData()\n",
    "    l(beta) = -loglik(beta, d)\n",
    "    res = optimize(l,x0)\n",
    "    return res\n",
    "end\n",
    "maximize_like()"
   ]
  },
  {
   "cell_type": "code",
   "execution_count": 79,
   "metadata": {
    "collapsed": false
   },
   "outputs": [
    {
     "name": "stderr",
     "output_type": "stream",
     "text": [
      "WARNING: Method definition l(Array) in module Main at In[40]:4 overwritten at In[79]:4.\n",
      "WARNING: Method definition minl(Any) in module Main at In[40]:5 overwritten at In[79]:5.\n"
     ]
    },
    {
     "data": {
      "text/plain": [
       "Results of Optimization Algorithm\n",
       " * Algorithm: Nelder-Mead\n",
       " * Starting Point: [0.8,1.0,-0.1]\n",
       " * Minimizer: [1.0071740273292469,1.5615720169752478, ...]\n",
       " * Minimum: 3.256289e+03\n",
       " * Iterations: 98\n",
       " * Convergence: true\n",
       "   *  √(Σ(yᵢ-ȳ)²)/n < 1.0e-08: true\n",
       "   * Reached Maximum Number of Iterations: false\n",
       " * Objective Function Calls: 122"
      ]
     },
     "execution_count": 79,
     "metadata": {},
     "output_type": "execute_result"
    }
   ],
   "source": [
    "srand(12345)\n",
    "d = makeData()\n",
    "x0=[0.8,1.0,-0.1]\n",
    "l(beta::Array) = loglik2(beta, d)\n",
    "minl(beta) = -l(beta)\n",
    "res = optimize(minl,x0, NelderMead())"
   ]
  },
  {
   "cell_type": "code",
   "execution_count": 80,
   "metadata": {
    "collapsed": false
   },
   "outputs": [
    {
     "data": {
      "text/plain": [
       "3-element Array{Float64,1}:\n",
       "  1.00717 \n",
       "  1.56157 \n",
       " -0.489881"
      ]
     },
     "execution_count": 80,
     "metadata": {},
     "output_type": "execute_result"
    }
   ],
   "source": [
    "Optim.minimizer(res)"
   ]
  },
  {
   "cell_type": "code",
   "execution_count": 54,
   "metadata": {
    "collapsed": false
   },
   "outputs": [
    {
     "name": "stderr",
     "output_type": "stream",
     "text": [
      "WARNING: Method definition l1(Any) in module Main at In[52]:1 overwritten at In[54]:1.\n",
      "WARNING: Method definition l2(Any) in module Main at In[52]:2 overwritten at In[54]:3.\n",
      "WARNING: Method definition l3(Any) in module Main at In[52]:3 overwritten at In[54]:4.\n"
     ]
    },
    {
     "data": {
      "text/plain": [
       "l3 (generic function with 1 method)"
      ]
     },
     "execution_count": 54,
     "metadata": {},
     "output_type": "execute_result"
    }
   ],
   "source": [
    "l1(x) = loglik([ x, d[\"beta\"][2], d[\"beta\"][3] ], d)\n",
    "l2(x) = loglik([ d[\"beta\"][1], x, d[\"beta\"][3] ], d)\n",
    "l3(x) = loglik([ d[\"beta\"][1], d[\"beta\"][2], x ], d)"
   ]
  },
  {
   "cell_type": "code",
   "execution_count": 131,
   "metadata": {
    "collapsed": false
   },
   "outputs": [
    {
     "name": "stderr",
     "output_type": "stream",
     "text": [
      "WARNING: Method definition grad!(Array{T<:Any, 1}, Array{T<:Any, 1}, Base.Dict) in module Main at In[126]:2 overwritten at In[131]:2.\n"
     ]
    },
    {
     "data": {
      "text/plain": [
       "grad! (generic function with 2 methods)"
      ]
     },
     "execution_count": 131,
     "metadata": {},
     "output_type": "execute_result"
    }
   ],
   "source": [
    "function grad!(beta::Vector, storage::Vector, d::Dict)\n",
    "    g = zeros(length(beta))\n",
    "    for i in 1:d[\"numobs\"]\n",
    "        if d[\"y\"][i] == 1\n",
    "            g = g + (pdf(d[\"dist\"],dot(d[\"X\"][:,i]',beta)))/(cdf(d[\"dist\"],dot(d[\"X\"][:,i]',beta)))*d[\"X\"][:,i]\n",
    "        else#if d[\"y\"][i] == 0\n",
    "            g = g - (pdf(d[\"dist\"],dot(d[\"X\"][:,i]',beta)))/(1-cdf(d[\"dist\"],dot(d[\"X\"][:,i]',beta)))*d[\"X\"][:,i]\n",
    "        #else\n",
    "         #   println(\"y[$i] was not a zero or a one.\")\n",
    "          #  break\n",
    "        end\n",
    "    end\n",
    "    storage[:] = -g\n",
    "    #return g\n",
    "end"
   ]
  },
  {
   "cell_type": "code",
   "execution_count": 132,
   "metadata": {
    "collapsed": false
   },
   "outputs": [
    {
     "data": {
      "text/plain": [
       "3-element Array{Float64,1}:\n",
       "   41.3671\n",
       " -103.222 \n",
       "  -68.1851"
      ]
     },
     "execution_count": 132,
     "metadata": {},
     "output_type": "execute_result"
    }
   ],
   "source": [
    "#(pdf(d[\"dist\"],dot(d[\"X\"][:,1]',[1,1.5,-.5])))/(cdf(d[\"dist\"],dot(d[\"X\"][:,1]',[1,1.5,-.5])))*d[\"X\"][:,1]\n",
    "grad!([1,1.5,-.5],zeros(3),d)"
   ]
  },
  {
   "cell_type": "code",
   "execution_count": 171,
   "metadata": {
    "collapsed": false
   },
   "outputs": [
    {
     "name": "stderr",
     "output_type": "stream",
     "text": [
      "WARNING: Method definition maximize_like_grad() in module Main at In[170]:3 overwritten at In[171]:3.\n",
      "WARNING: Method definition maximize_like_grad(Any) in module Main at In[170]:3 overwritten at In[171]:3.\n",
      "WARNING: Method definition maximize_like_grad(Any, Any) in module Main at In[170]:3 overwritten at In[171]:3.\n"
     ]
    },
    {
     "data": {
      "text/plain": [
       "3397.6713952456994"
      ]
     },
     "execution_count": 171,
     "metadata": {},
     "output_type": "execute_result"
    }
   ],
   "source": [
    "srand(1234)\n",
    "function maximize_like_grad(x0=[0.8,1.0,-0.1],meth=BFGS())\n",
    "    d = makeData()\n",
    "    l(beta) = -(loglik(beta, d))\n",
    "    g!(beta,storage) = grad!(beta,storage,d)\n",
    "    res = optimize(l,g!,x0,meth)\n",
    "    return res\n",
    "end\n",
    "maximize_like_grad().minimum"
   ]
  },
  {
   "cell_type": "code",
   "execution_count": 129,
   "metadata": {
    "collapsed": false
   },
   "outputs": [
    {
     "name": "stderr",
     "output_type": "stream",
     "text": [
      "WARNING: Method definition l(Any) in module Main at In[114]:1 overwritten at In[129]:1.\n",
      "WARNING: Method definition g!(Any, Any) in module Main at In[114]:2 overwritten at In[129]:2.\n"
     ]
    },
    {
     "data": {
      "text/plain": [
       "Results of Optimization Algorithm\n",
       " * Algorithm: BFGS\n",
       " * Starting Point: [0.8,1.0,-0.1]\n",
       " * Minimizer: [0.8,1.0,-0.1]\n",
       " * Minimum: -3.634174e+03\n",
       " * Iterations: 1\n",
       " * Convergence: false\n",
       "   * |x - x'| < 1.0e-32: false\n",
       "   * |f(x) - f(x')| / |f(x)| < 1.0e-32: false\n",
       "   * |g(x)| < 1.0e-08: false\n",
       "   * f(x) > f(x'): true\n",
       "   * Reached Maximum Number of Iterations: false\n",
       " * Objective Function Calls: 75\n",
       " * Gradient Calls: 75"
      ]
     },
     "execution_count": 129,
     "metadata": {},
     "output_type": "execute_result"
    }
   ],
   "source": [
    "l(beta) = -loglik(beta, d)\n",
    "g!(beta,storage) = grad!(beta,storage,d)\n",
    "res = optimize(l,g!,x0,BFGS())"
   ]
  },
  {
   "cell_type": "code",
   "execution_count": 159,
   "metadata": {
    "collapsed": false
   },
   "outputs": [
    {
     "name": "stderr",
     "output_type": "stream",
     "text": [
      "WARNING: Method definition hess!(Array{Float64, 1}, Array{Float64, 2}, Any) in module Main at In[156]:2 overwritten at In[159]:2.\n"
     ]
    },
    {
     "data": {
      "text/plain": [
       "hess! (generic function with 1 method)"
      ]
     },
     "execution_count": 159,
     "metadata": {},
     "output_type": "execute_result"
    }
   ],
   "source": [
    "function hess!(beta::Vector{Float64},storage::Matrix{Float64}, d)\n",
    "    h = zeros(size(storage)) \n",
    "    #Compute the Hessian \n",
    "    for i = 1:d[\"numobs\"]\n",
    "        XB = dot(d[\"X\"][:,i]', beta) \n",
    "        phi = pdf(d[\"dist\"], XB) \n",
    "        Phi = cdf(d[\"dist\"], XB) \n",
    "        XXt = d[\"X\"][:,i]*d[\"X\"][:,i]'\n",
    "        if d[\"y\"][i] == 1\n",
    "            h = h + phi * XXt * (phi + XB * Phi) / (Phi * Phi)\n",
    "        else#if d[\"y\"][i] == 0\n",
    "            h = h + (phi - XB * (1 - Phi)) / ((1 - Phi) * (1 - Phi))\n",
    "        #else\n",
    "         #  println(\"y[$i] was not a zero or a one.\")\n",
    "          # break\n",
    "        end\n",
    "    end\n",
    "    storage[:] = -h \n",
    "end"
   ]
  },
  {
   "cell_type": "code",
   "execution_count": 160,
   "metadata": {
    "collapsed": false
   },
   "outputs": [
    {
     "name": "stderr",
     "output_type": "stream",
     "text": [
      "WARNING: Method definition maximize_like_grad_hess() in module Main at In[157]:2 overwritten at In[160]:2.\n",
      "WARNING: Method definition maximize_like_grad_hess(Any) in module Main at In[157]:2 overwritten at In[160]:2.\n",
      "WARNING: Method definition maximize_like_grad_hess(Any, Any) in module Main at In[157]:2 overwritten at In[160]:2.\n"
     ]
    },
    {
     "data": {
      "text/plain": [
       "maximize_like_grad_hess (generic function with 3 methods)"
      ]
     },
     "execution_count": 160,
     "metadata": {},
     "output_type": "execute_result"
    }
   ],
   "source": [
    "function maximize_like_grad_hess(x0=[0.8,1.0,-0.1],meth=Newton())\n",
    "    d = makeData()\n",
    "    l(beta) = -(loglik(beta, d))\n",
    "    h!(beta,storage) = hess!(beta,storage,d)\n",
    "    res = optimize(l,g!,h!,x0,meth)\n",
    "    return res\n",
    "end"
   ]
  },
  {
   "cell_type": "code",
   "execution_count": 162,
   "metadata": {
    "collapsed": false
   },
   "outputs": [
    {
     "data": {
      "text/plain": [
       "Results of Optimization Algorithm\n",
       " * Algorithm: Newton's Method\n",
       " * Starting Point: [0.8,1.0,-0.1]\n",
       " * Minimizer: [0.9802339415321308,1.5261130791095625, ...]\n",
       " * Minimum: 3.433729e+03\n",
       " * Iterations: 9\n",
       " * Convergence: false\n",
       "   * |x - x'| < 1.0e-32: false\n",
       "   * |f(x) - f(x')| / |f(x)| < 1.0e-32: false\n",
       "   * |g(x)| < 1.0e-08: false\n",
       "   * f(x) > f(x'): true\n",
       "   * Reached Maximum Number of Iterations: false\n",
       " * Objective Function Calls: 90\n",
       " * Gradient Calls: 90"
      ]
     },
     "execution_count": 162,
     "metadata": {},
     "output_type": "execute_result"
    }
   ],
   "source": [
    "maximize_like_grad_hess()"
   ]
  },
  {
   "cell_type": "code",
   "execution_count": 146,
   "metadata": {
    "collapsed": false
   },
   "outputs": [
    {
     "ename": "LoadError",
     "evalue": "DimensionMismatch(\"dimensions must match\")",
     "output_type": "error",
     "traceback": [
      "DimensionMismatch(\"dimensions must match\")",
      "",
      " in promote_shape(::Tuple{Base.OneTo{Int64},Base.OneTo{Int64}}, ::Tuple{Base.OneTo{Int64}}) at ./operators.jl:406",
      " in promote_shape(::Array{Float64,2}, ::Array{Float64,1}) at ./operators.jl:397",
      " in _elementwise(::Base.#+, ::Type{Float64}, ::Array{Float64,2}, ::Array{Float64,1}) at ./arraymath.jl:71",
      " in +(::Array{Float64,2}, ::Array{Float64,1}) at ./arraymath.jl:63",
      " in hess!(::Array{Float64,1}, ::Array{Float64,2}, ::Dict{String,Any}) at ./In[143]:11",
      " in execute_request(::ZMQ.Socket, ::IJulia.Msg) at /home/opmc/.julia/v0.5/IJulia/src/execute_request.jl:157",
      " in eventloop(::ZMQ.Socket) at /home/opmc/.julia/v0.5/IJulia/src/eventloop.jl:8",
      " in (::IJulia.##13#19)() at ./task.jl:360"
     ]
    }
   ],
   "source": [
    "hess!([1,-1.5,-.5], zeros(3,3),d)"
   ]
  },
  {
   "cell_type": "code",
   "execution_count": 155,
   "metadata": {
    "collapsed": false
   },
   "outputs": [
    {
     "data": {
      "text/plain": [
       "3×3 Array{Float64,2}:\n",
       " 1.37442   0.999678  0.487191\n",
       " 0.999678  0.72711   0.354356\n",
       " 0.487191  0.354356  0.172694"
      ]
     },
     "execution_count": 155,
     "metadata": {},
     "output_type": "execute_result"
    }
   ],
   "source": [
    "XXt = d[\"X\"][:,1]*d[\"X\"][:,1]'"
   ]
  },
  {
   "cell_type": "code",
   "execution_count": 169,
   "metadata": {
    "collapsed": false
   },
   "outputs": [
    {
     "data": {
      "text/plain": [
       "-0.01538027403913557"
      ]
     },
     "execution_count": 169,
     "metadata": {},
     "output_type": "execute_result"
    }
   ],
   "source": [
    "mean(d[\"X\"][1,:])"
   ]
  },
  {
   "cell_type": "code",
   "execution_count": 168,
   "metadata": {
    "collapsed": false
   },
   "outputs": [
    {
     "data": {
      "text/plain": [
       "3×10000 Array{Float64,2}:\n",
       " 1.17236   0.516425  -1.47708   -0.158158  …  -1.26904   0.672225  -0.499428\n",
       " 0.852707  0.685759   0.126747   0.606808      1.23262  -2.8509    -0.318974\n",
       " 0.415565  0.282272   1.46647    2.00645      -1.72981  -0.318536   0.143369"
      ]
     },
     "execution_count": 168,
     "metadata": {},
     "output_type": "execute_result"
    }
   ],
   "source": [
    "d[\"X\"]"
   ]
  },
  {
   "cell_type": "code",
   "execution_count": 183,
   "metadata": {
    "collapsed": false
   },
   "outputs": [
    {
     "name": "stderr",
     "output_type": "stream",
     "text": [
      "WARNING: replacing module HW_unconstrained\n"
     ]
    },
    {
     "data": {
      "text/plain": [
       "HW_unconstrained"
      ]
     },
     "execution_count": 183,
     "metadata": {},
     "output_type": "execute_result"
    }
   ],
   "source": [
    "\n",
    "#include(\"test/runtests.jl\")"
   ]
  },
  {
   "cell_type": "code",
   "execution_count": null,
   "metadata": {
    "collapsed": false
   },
   "outputs": [],
   "source": [
    "include(\"src/HW_unconstrained.jl\")\n",
    "HW_unconstrained.runAll()"
   ]
  },
  {
   "cell_type": "code",
   "execution_count": 176,
   "metadata": {
    "collapsed": false
   },
   "outputs": [
    {
     "name": "stderr",
     "output_type": "stream",
     "text": [
      "WARNING: Method definition plotLike() in module Main at In[5]:2 overwritten at In[176]:2.\n"
     ]
    },
    {
     "data": {
      "text/plain": [
       "plotLike (generic function with 1 method)"
      ]
     },
     "execution_count": 176,
     "metadata": {},
     "output_type": "execute_result"
    }
   ],
   "source": [
    "function plotLike()\n",
    "        d = makeData()\n",
    "        l1(x) = loglik([ x, d[\"beta\"][2], d[\"beta\"][3] ], d)\n",
    "        l2(x) = loglik([ d[\"beta\"][1], x, d[\"beta\"][3] ], d)\n",
    "        l3(x) = loglik([ d[\"beta\"][1], d[\"beta\"][2], x ], d)\n",
    "        #x1 = linspace(0, 1, 100)\n",
    "        plot1 = plot(linspace(0,2,100), l1, labels = \"Varying beta[1]\")\n",
    "        plot2 = plot(linspace(.5,2.5,100), l2, labels = \"Varying beta[2]\")\n",
    "        plot3 = plot(linspace(-1,0,100), l3, labels = \"Varying beta[3]\")\n",
    "        return plot(plot1, plot2, plot3)\n",
    "    end"
   ]
  },
  {
   "cell_type": "code",
   "execution_count": 177,
   "metadata": {
    "collapsed": false
   },
   "outputs": [
    {
     "data": {
      "text/html": [
       "<img src=\"data:image/png;base64,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\" />"
      ]
     },
     "execution_count": 177,
     "metadata": {},
     "output_type": "execute_result"
    }
   ],
   "source": [
    "function plotLike()\n",
    "        d = makeData()\n",
    "        l1(x) = loglik([ x, d[\"beta\"][2], d[\"beta\"][3] ], d)\n",
    "        l2(x) = loglik([ d[\"beta\"][1], x, d[\"beta\"][3] ], d)\n",
    "        l3(x) = loglik([ d[\"beta\"][1], d[\"beta\"][2], x ], d)\n",
    "        #x1 = linspace(0, 1, 100)\n",
    "        plot1 = plot(linspace(0,2,100), l1, labels = \"Varying beta[1]\")\n",
    "        plot2 = plot(linspace(.5,2.5,100), l2, labels = \"Varying beta[2]\")\n",
    "        plot3 = plot(linspace(-1,0,100), l3, labels = \"Varying beta[3]\")\n",
    "        return plot(plot1, plot2, plot3)\n",
    "    end"
   ]
  },
  {
   "cell_type": "code",
   "execution_count": null,
   "metadata": {
    "collapsed": true
   },
   "outputs": [],
   "source": []
  }
 ],
 "metadata": {
  "kernelspec": {
   "display_name": "Julia 0.5.0",
   "language": "julia",
   "name": "julia-0.5"
  },
  "language_info": {
   "file_extension": ".jl",
   "mimetype": "application/julia",
   "name": "julia",
   "version": "0.5.1"
  }
 },
 "nbformat": 4,
 "nbformat_minor": 0
}
