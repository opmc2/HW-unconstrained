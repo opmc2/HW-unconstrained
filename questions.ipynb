{
 "cells": [
  {
   "cell_type": "markdown",
   "metadata": {},
   "source": [
    "# Probit Maximum Likelihood\n",
    "\n",
    "In this homework you should implement the maximum likelihood estimator for the probit model. To remind you, this model is defined as follows:\n",
    "    $$\n",
    "    \\begin{align}  \n",
    "    y_i  &\\in \\{0,1\\} \\\\\n",
    "    \\Pr\\{y_i=1\\} &= \\Phi(x_i \\beta) \\\\\n",
    "    L(\\beta)   & = \\Pi_{i=1}^N  \\Phi(x_i \\beta)^{y_i} (1-\\Phi(x_i \\beta))^{1-y_i} \\\\\n",
    "    \\beta  & \\in \\mathbb{R}^k \\\\\n",
    "    x_i  & \\sim N\\left([0,0,0],\\left[ \\begin{array}{ccc} 1 & 0 & 0 \\\\ 0 & 1 & 0 \\\\ 0 & 0 & 1\\end{array} \\right] \\right) \\\\\n",
    "    k & = 3 \n",
    "    \\end{align}\n",
    "    $$\n",
    "    \n",
    "Where $\\Phi$ is the standard Normal cdf. Think of $x_i$ as a row-vector. You should proceed as follows:\n",
    "\n",
    "1. define a data generating function with default argument `N=10000`, generating `N` simulated data points from this model. Generate the data using $\\beta=[1,1.5,-0.5]$. The function should return a `Dict` as outlined in the code.\n",
    "1. Define the log likelihood function, $l(\\beta) = \\log(L)$\n",
    "1. Write a function `plotLike` to plot the log likelihood function for different parameter values. Follow the outline of that function.\n",
    "1. Define the function `maximize_like`. this should optimize your log likelihood function.\n",
    "1. (Optional) Define the gradient of the log likelihood function and use it in another optimization `maximize_ike_grad`.\n",
    "1. (Optional) Define the hessian of the log likelihood function and use it in another optimization `maximize_like_grad_hess`.\n",
    "1. (Optional) Use the hessian of the log likelihood function to compute the standard errors of your estimates and use it in `maximize_like_grad_se`\n",
    "\n",
    "## Tests\n",
    "\n",
    "* The code comes with a test suite that you should fill out. \n",
    "* There are some example tests, you should make those work and maybe add other ones. \n",
    "* Please do not change anything in the file structure."
   ]
  },
  {
   "cell_type": "code",
   "execution_count": 2,
   "metadata": {
    "collapsed": false
   },
   "outputs": [
    {
     "name": "stdout",
     "output_type": "stream",
     "text": [
      "\n",
      " If the code has a Segmentation fault error switch to qt v4.8.5 by pasting the following code into julia: \n",
      " \n",
      "if !Plots.is_installed(\"PyPlot\")\n",
      "    Pkg.add(\"PyPlot\")\n",
      "end\n",
      "withenv(\"PYTHON\" => \"\") do\n",
      "    Pkg.build(\"PyPlot\")\n",
      "end\n",
      "import Conda\n",
      "Conda.add(\"qt=4.8.5\")\n",
      "\n",
      "# now restart julia!\n"
     ]
    },
    {
     "data": {
      "text/plain": [
       "makeData (generic function with 4 methods)"
      ]
     },
     "execution_count": 2,
     "metadata": {},
     "output_type": "execute_result"
    }
   ],
   "source": [
    "using Distributions, Optim, Plots, DataFrames\n",
    "pyplot()\n",
    "\n",
    "# data generating function\n",
    "function makeData(n=10000::Int, beta = [ 1; 1.5; -0.5 ]::Vector, k=3::Int)\n",
    "    X = rand(MvNormal(eye(k)),n) # define X\n",
    "    y = Array{Int}(n) #empty y\n",
    "    for i in 1:n # define binomial y\n",
    "        y[i] = rand(Bernoulli(cdf(Normal(),dot(X[:,i]',beta))))\n",
    "    end\n",
    "    # return a dict with beta,numobs,X,y,norm)\n",
    "    return Dict(\"beta\" => beta, \"numobs\" => n, \"X\" => X, \"y\" => y, \"dist\" => Normal())\n",
    "    #return beta, X, y\n",
    "end"
   ]
  },
  {
   "cell_type": "code",
   "execution_count": 78,
   "metadata": {
    "collapsed": false
   },
   "outputs": [
    {
     "data": {
      "text/plain": [
       "Dict{String,Any} with 5 entries:\n",
       "  \"y\"      => [1,0,0,1,0,0,1,1,1,0  …  0,0,0,0,1,1,0,1,0,1]\n",
       "  \"X\"      => [0.957662 -0.712056 … 0.060789 -0.107123; 0.0177363 -0.587558 … -…\n",
       "  \"numobs\" => 10000\n",
       "  \"dist\"   => Distributions.Normal{Float64}(μ=0.0, σ=1.0)\n",
       "  \"beta\"   => [1.0,1.5,-0.5]"
      ]
     },
     "execution_count": 78,
     "metadata": {},
     "output_type": "execute_result"
    }
   ],
   "source": [
    "d = makeData()\n",
    "d"
   ]
  },
  {
   "cell_type": "code",
   "execution_count": 90,
   "metadata": {
    "collapsed": false
   },
   "outputs": [
    {
     "name": "stderr",
     "output_type": "stream",
     "text": [
      "WARNING: Method definition loglik2(Array{T<:Any, 1}, Base.Dict) in module Main at In[89]:2 overwritten at In[90]:2.\n",
      "WARNING: Method definition loglik(Array{T<:Any, 1}, Base.Dict) in module Main at In[89]:7 overwritten at In[90]:7.\n"
     ]
    },
    {
     "data": {
      "text/plain": [
       "(-3385.934622232091,-3385.934622232091)"
      ]
     },
     "execution_count": 90,
     "metadata": {},
     "output_type": "execute_result"
    }
   ],
   "source": [
    "function loglik2(beta::Vector, d::Dict)\n",
    "    l = sum(d[\"y\"][i]*log(cdf(d[\"dist\"],dot(d[\"X\"][:,i]',beta)))+(1-d[\"y\"][i])*log(1-cdf(d[\"dist\"],dot(d[\"X\"][:,i]',beta))) for i in 1:d[\"numobs\"])\n",
    "    return l\n",
    "end\n",
    "        \n",
    "function loglik(beta::Vector,d::Dict)\n",
    "    l = 0\n",
    "    for i in 1:d[\"numobs\"]\n",
    "        if d[\"y\"][i] == 1\n",
    "            l = l + log(cdf(d[\"dist\"],dot(d[\"X\"][:,i]',beta)))\n",
    "        else\n",
    "            l = l + log(1-cdf(d[\"dist\"],dot(d[\"X\"][:,i]',beta)))\n",
    "        #else\n",
    "            #println(\"y[$i] was not a zero or a one.\")\n",
    "            #break\n",
    "        end\n",
    "    end\n",
    "    return l\n",
    "end\n",
    "loglik(d[\"beta\"], d), loglik2(d[\"beta\"], d)\n",
    "#d[\"y\"][2] == 0"
   ]
  },
  {
   "cell_type": "code",
   "execution_count": 91,
   "metadata": {
    "collapsed": false
   },
   "outputs": [
    {
     "name": "stderr",
     "output_type": "stream",
     "text": [
      "WARNING: Method definition plotLike() in module Main at In[69]:2 overwritten at In[91]:2.\n"
     ]
    },
    {
     "data": {
      "text/plain": [
       "plotLike (generic function with 1 method)"
      ]
     },
     "execution_count": 91,
     "metadata": {},
     "output_type": "execute_result"
    }
   ],
   "source": [
    "function plotLike()\n",
    "    d = makeData()\n",
    "    l1(x) = loglik([ x, d[\"beta\"][2], d[\"beta\"][3] ], d)\n",
    "    l2(x) = loglik([ d[\"beta\"][1], x, d[\"beta\"][3] ], d)\n",
    "    l3(x) = loglik([ d[\"beta\"][1], d[\"beta\"][2], x ], d)\n",
    "    #x1 = linspace(0, 1, 100)\n",
    "    plot1 = plot(linspace(0,2,100), l1, labels = \"Varying beta[1]\")\n",
    "    plot2 = plot(linspace(.5,2.5,100), l2, labels = \"Varying beta[2]\")\n",
    "    plot3 = plot(linspace(-1,0,100), l3, labels = \"Varying beta[3]\")\n",
    "    return plot(plot1, plot2, plot3)\n",
    "end"
   ]
  },
  {
   "cell_type": "code",
   "execution_count": 70,
   "metadata": {
    "collapsed": false
   },
   "outputs": [
    {
     "data": {
      "text/html": [
       "<img src=\"data:image/png;base64,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\" />"
      ]
     },
     "execution_count": 70,
     "metadata": {},
     "output_type": "execute_result"
    }
   ],
   "source": [
    "plotLike()"
   ]
  },
  {
   "cell_type": "code",
   "execution_count": 92,
   "metadata": {
    "collapsed": false
   },
   "outputs": [
    {
     "name": "stderr",
     "output_type": "stream",
     "text": [
      "WARNING: Method definition maximize_like() in module Main at In[75]:2 overwritten at In[92]:2.\n",
      "WARNING: Method definition maximize_like(Any) in module Main at In[75]:2 overwritten at In[92]:2.\n",
      "WARNING: Method definition maximize_like(Any, Any) in module Main at In[75]:2 overwritten at In[92]:2.\n"
     ]
    },
    {
     "data": {
      "text/plain": [
       "Results of Optimization Algorithm\n",
       " * Algorithm: Nelder-Mead\n",
       " * Starting Point: [0.8,1.0,-0.1]\n",
       " * Minimizer: [0.9784563722853905,1.5173758571901979, ...]\n",
       " * Minimum: 3.341539e+03\n",
       " * Iterations: 99\n",
       " * Convergence: true\n",
       "   *  √(Σ(yᵢ-ȳ)²)/n < 1.0e-08: true\n",
       "   * Reached Maximum Number of Iterations: false\n",
       " * Objective Function Calls: 120"
      ]
     },
     "execution_count": 92,
     "metadata": {},
     "output_type": "execute_result"
    }
   ],
   "source": [
    "function maximize_like(x0=[0.8,1.0,-0.1],meth=NelderMead())\n",
    "    d = makeData()\n",
    "    l(beta) = -loglik(beta, d)\n",
    "    res = optimize(l,x0)\n",
    "    return res\n",
    "end\n",
    "maximize_like()"
   ]
  },
  {
   "cell_type": "code",
   "execution_count": 66,
   "metadata": {
    "collapsed": false
   },
   "outputs": [
    {
     "name": "stderr",
     "output_type": "stream",
     "text": [
      "WARNING: Method definition l(Array) in module Main at In[65]:3 overwritten at In[66]:3.\n",
      "WARNING: Method definition minl(Any) in module Main at In[65]:4 overwritten at In[66]:4.\n"
     ]
    },
    {
     "data": {
      "text/plain": [
       "Results of Optimization Algorithm\n",
       " * Algorithm: Nelder-Mead\n",
       " * Starting Point: [0.8,1.0,-0.1]\n",
       " * Minimizer: [1.0045009249732435,1.5177470858830664, ...]\n",
       " * Minimum: 3.368317e+03\n",
       " * Iterations: 101\n",
       " * Convergence: true\n",
       "   *  √(Σ(yᵢ-ȳ)²)/n < 1.0e-08: true\n",
       "   * Reached Maximum Number of Iterations: false\n",
       " * Objective Function Calls: 117"
      ]
     },
     "execution_count": 66,
     "metadata": {},
     "output_type": "execute_result"
    }
   ],
   "source": [
    "d = makeData()\n",
    "x0=[0.8,1.0,-0.1]\n",
    "l(beta::Array) = loglik2(beta, d)\n",
    "minl(beta) = -l(beta)\n",
    "res = optimize(minl,x0, NelderMead())"
   ]
  },
  {
   "cell_type": "code",
   "execution_count": 67,
   "metadata": {
    "collapsed": false
   },
   "outputs": [
    {
     "data": {
      "text/plain": [
       "3-element Array{Float64,1}:\n",
       "  1.0045  \n",
       "  1.51775 \n",
       " -0.497392"
      ]
     },
     "execution_count": 67,
     "metadata": {},
     "output_type": "execute_result"
    }
   ],
   "source": [
    "Optim.minimizer(res)"
   ]
  },
  {
   "cell_type": "code",
   "execution_count": 54,
   "metadata": {
    "collapsed": false
   },
   "outputs": [
    {
     "name": "stderr",
     "output_type": "stream",
     "text": [
      "WARNING: Method definition l1(Any) in module Main at In[52]:1 overwritten at In[54]:1.\n",
      "WARNING: Method definition l2(Any) in module Main at In[52]:2 overwritten at In[54]:3.\n",
      "WARNING: Method definition l3(Any) in module Main at In[52]:3 overwritten at In[54]:4.\n"
     ]
    },
    {
     "data": {
      "text/plain": [
       "l3 (generic function with 1 method)"
      ]
     },
     "execution_count": 54,
     "metadata": {},
     "output_type": "execute_result"
    }
   ],
   "source": [
    "l1(x) = loglik2([ x, d[\"beta\"][2], d[\"beta\"][3] ], d)\n",
    "l2(x) = loglik2([ d[\"beta\"][1], x, d[\"beta\"][3] ], d)\n",
    "l3(x) = loglik2([ d[\"beta\"][1], d[\"beta\"][2], x ], d)"
   ]
  },
  {
   "cell_type": "code",
   "execution_count": 60,
   "metadata": {
    "collapsed": false
   },
   "outputs": [
    {
     "name": "stdout",
     "output_type": "stream",
     "text": [
      "  0.007447 seconds (113.95 k allocations: 3.875 MB)\n"
     ]
    },
    {
     "data": {
      "text/plain": [
       "-3387.0525640547235"
      ]
     },
     "execution_count": 60,
     "metadata": {},
     "output_type": "execute_result"
    }
   ],
   "source": [
    "@time l1(1)"
   ]
  },
  {
   "cell_type": "code",
   "execution_count": 59,
   "metadata": {
    "collapsed": false
   },
   "outputs": [
    {
     "name": "stdout",
     "output_type": "stream",
     "text": [
      "  0.022869 seconds (227.97 k allocations: 7.446 MB, 25.14% gc time)\n"
     ]
    },
    {
     "data": {
      "text/plain": [
       "-3387.0525640547235"
      ]
     },
     "execution_count": 59,
     "metadata": {},
     "output_type": "execute_result"
    }
   ],
   "source": []
  },
  {
   "cell_type": "code",
   "execution_count": null,
   "metadata": {
    "collapsed": true
   },
   "outputs": [],
   "source": []
  },
  {
   "cell_type": "code",
   "execution_count": null,
   "metadata": {
    "collapsed": true
   },
   "outputs": [],
   "source": []
  }
 ],
 "metadata": {
  "kernelspec": {
   "display_name": "Julia 0.5.0",
   "language": "julia",
   "name": "julia-0.5"
  },
  "language_info": {
   "file_extension": ".jl",
   "mimetype": "application/julia",
   "name": "julia",
   "version": "0.5.1"
  }
 },
 "nbformat": 4,
 "nbformat_minor": 0
}
