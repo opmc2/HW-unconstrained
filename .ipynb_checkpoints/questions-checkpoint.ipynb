{
 "cells": [
  {
   "cell_type": "markdown",
   "metadata": {},
   "source": [
    "# Probit Maximum Likelihood\n",
    "\n",
    "In this homework you should implement the maximum likelihood estimator for the probit model. To remind you, this model is defined as follows:\n",
    "    $$\n",
    "    \\begin{align}  \n",
    "    y_i  &\\in \\{0,1\\} \\\\\n",
    "    \\Pr\\{y_i=1\\} &= \\Phi(x_i \\beta) \\\\\n",
    "    L(\\beta)   & = \\Pi_{i=1}^N  \\Phi(x_i \\beta)^{y_i} (1-\\Phi(x_i \\beta))^{1-y_i} \\\\\n",
    "    \\beta  & \\in \\mathbb{R}^k \\\\\n",
    "    x_i  & \\sim N\\left([0,0,0],\\left[ \\begin{array}{ccc} 1 & 0 & 0 \\\\ 0 & 1 & 0 \\\\ 0 & 0 & 1\\end{array} \\right] \\right) \\\\\n",
    "    k & = 3 \n",
    "    \\end{align}\n",
    "    $$\n",
    "    \n",
    "Where $\\Phi$ is the standard Normal cdf. Think of $x_i$ as a row-vector. You should proceed as follows:\n",
    "\n",
    "1. define a data generating function with default argument `N=10000`, generating `N` simulated data points from this model. Generate the data using $\\beta=[1,1.5,-0.5]$. The function should return a `Dict` as outlined in the code.\n",
    "1. Define the log likelihood function, $l(\\beta) = \\log(L)$\n",
    "1. Write a function `plotLike` to plot the log likelihood function for different parameter values. Follow the outline of that function.\n",
    "1. Define the function `maximize_like`. this should optimize your log likelihood function.\n",
    "1. (Optional) Define the gradient of the log likelihood function and use it in another optimization `maximize_ike_grad`.\n",
    "1. (Optional) Define the hessian of the log likelihood function and use it in another optimization `maximize_like_grad_hess`.\n",
    "1. (Optional) Use the hessian of the log likelihood function to compute the standard errors of your estimates and use it in `maximize_like_grad_se`\n",
    "\n",
    "## Tests\n",
    "\n",
    "* The code comes with a test suite that you should fill out. \n",
    "* There are some example tests, you should make those work and maybe add other ones. \n",
    "* Please do not change anything in the file structure."
   ]
  },
  {
   "cell_type": "code",
   "execution_count": 1,
   "metadata": {
    "collapsed": false
   },
   "outputs": [
    {
     "name": "stderr",
     "output_type": "stream",
     "text": [
      "\u001b[1m\u001b[34mINFO: Recompiling stale cache file /home/opmc/.julia/lib/v0.5/Distributions.ji for module Distributions.\n",
      "\u001b[0m\u001b[1m\u001b[34mINFO: Recompiling stale cache file /home/opmc/.julia/lib/v0.5/Calculus.ji for module Calculus.\n",
      "\u001b[0m\u001b[1m\u001b[34mINFO: Recompiling stale cache file /home/opmc/.julia/lib/v0.5/Optim.ji for module Optim.\n",
      "\u001b[0m\u001b[1m\u001b[34mINFO: Recompiling stale cache file /home/opmc/.julia/lib/v0.5/Plots.ji for module Plots.\n",
      "\u001b[0m\u001b[1m\u001b[34mINFO: Recompiling stale cache file /home/opmc/.julia/lib/v0.5/DataArrays.ji for module DataArrays.\n",
      "\u001b[0m\u001b[1m\u001b[34mINFO: Recompiling stale cache file /home/opmc/.julia/lib/v0.5/DataFrames.ji for module DataFrames.\n",
      "\u001b[0m\u001b[1m\u001b[34mINFO: Recompiling stale cache file /home/opmc/.julia/lib/v0.5/PyPlot.ji for module PyPlot.\n",
      "\u001b[0m"
     ]
    },
    {
     "name": "stdout",
     "output_type": "stream",
     "text": [
      "\n",
      " If the code has a Segmentation fault error switch to qt v4.8.5 by pasting the following code into julia: \n",
      " \n",
      "if !Plots.is_installed(\"PyPlot\")\n",
      "    Pkg.add(\"PyPlot\")\n",
      "end\n",
      "withenv(\"PYTHON\" => \"\") do\n",
      "    Pkg.build(\"PyPlot\")\n",
      "end\n",
      "import Conda\n",
      "Conda.add(\"qt=4.8.5\")\n",
      "\n",
      "# now restart julia!\n"
     ]
    },
    {
     "data": {
      "text/plain": [
       "makeData (generic function with 4 methods)"
      ]
     },
     "execution_count": 1,
     "metadata": {},
     "output_type": "execute_result"
    }
   ],
   "source": [
    "using Distributions, Optim, Plots, DataFrames\n",
    "pyplot()\n",
    "\n",
    "# data generating function\n",
    "function makeData(n=10000::Int, beta = [ 1; 1.5; -0.5 ]::Vector, k=3::Int)\n",
    "    X = rand(MvNormal(eye(k)),n) # define X\n",
    "    y = Array{Int}(n) #empty y\n",
    "    for i in 1:n # define binomial y\n",
    "        y[i] = rand(Bernoulli(cdf(Normal(),dot(X[:,i]',beta))))\n",
    "    end\n",
    "    # return a dict with beta,numobs,X,y,norm)\n",
    "    return Dict(\"beta\" => beta, \"numobs\" => n, \"X\" => X, \"y\" => y, \"dist\" => Normal())\n",
    "    #return beta, X, y\n",
    "end"
   ]
  },
  {
   "cell_type": "code",
   "execution_count": 26,
   "metadata": {
    "collapsed": false
   },
   "outputs": [
    {
     "data": {
      "text/plain": [
       "Dict{String,Any} with 5 entries:\n",
       "  \"y\"      => [1,0,0,0,1,0,0,1,1,0  …  1,1,1,0,0,0,0,1,0,0]\n",
       "  \"X\"      => [-0.144947 -0.409593 … 0.0388513 0.432134; -0.114392 -1.33659 … -…\n",
       "  \"numobs\" => 10000\n",
       "  \"dist\"   => Distributions.Normal{Float64}(μ=0.0, σ=1.0)\n",
       "  \"beta\"   => [1.0,1.5,-0.5]"
      ]
     },
     "execution_count": 26,
     "metadata": {},
     "output_type": "execute_result"
    }
   ],
   "source": [
    "d = makeData()"
   ]
  },
  {
   "cell_type": "code",
   "execution_count": 37,
   "metadata": {
    "collapsed": false
   },
   "outputs": [
    {
     "name": "stderr",
     "output_type": "stream",
     "text": [
      "WARNING: Method definition loglik(Array{T<:Any, 1}, Base.Dict) in module Main at In[36]:2 overwritten at In[37]:2.\n"
     ]
    },
    {
     "data": {
      "text/plain": [
       "-3336.3129150403115"
      ]
     },
     "execution_count": 37,
     "metadata": {},
     "output_type": "execute_result"
    }
   ],
   "source": [
    "function loglik(beta::Vector, d::Dict)\n",
    "    l = sum(d[\"y\"][i]*log(cdf(d[\"dist\"],dot(d[\"X\"][:,i]',beta)))+(1-d[\"y\"][i])*log(1-cdf(d[\"dist\"],dot(d[\"X\"][:,i]',beta))) for i in 1:d[\"numobs\"])\n",
    "    return l\n",
    "end\n",
    "loglik(d[\"beta\"], d)"
   ]
  },
  {
   "cell_type": "code",
   "execution_count": 17,
   "metadata": {
    "collapsed": false
   },
   "outputs": [
    {
     "name": "stderr",
     "output_type": "stream",
     "text": [
      "WARNING: Method definition plotLike() in module Main at In[12]:2 overwritten at In[17]:2.\n"
     ]
    },
    {
     "data": {
      "text/plain": [
       "plotLike (generic function with 1 method)"
      ]
     },
     "execution_count": 17,
     "metadata": {},
     "output_type": "execute_result"
    }
   ],
   "source": [
    "function plotLike()\n",
    "    d = makeData()\n",
    "    l1(x) = loglik([ x, d[\"beta\"][2], d[\"beta\"][3] ], d)\n",
    "    l2(x) = loglik([ d[\"beta\"][1], x, d[\"beta\"][3] ], d)\n",
    "    l3(x) = loglik([ d[\"beta\"][1], d[\"beta\"][2], x ], d)\n",
    "    #x1 = linspace(0, 1, 100)\n",
    "    plot1 = plot(linspace(0,2,100), l1)\n",
    "    plot2 = plot(linspace(.5,2.5,100), l2)\n",
    "    plot3 = plot(linspace(-1,0,100), l3)\n",
    "    return plot(plot1, plot2, plot3)\n",
    "end"
   ]
  },
  {
   "cell_type": "code",
   "execution_count": 18,
   "metadata": {
    "collapsed": false
   },
   "outputs": [
    {
     "data": {
      "text/html": [
       "<img src=\"data:image/png;base64,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\" />"
      ]
     },
     "execution_count": 18,
     "metadata": {},
     "output_type": "execute_result"
    }
   ],
   "source": [
    "plotLike()"
   ]
  },
  {
   "cell_type": "code",
   "execution_count": 19,
   "metadata": {
    "collapsed": false
   },
   "outputs": [
    {
     "data": {
      "text/plain": [
       "maximize_like (generic function with 3 methods)"
      ]
     },
     "execution_count": 19,
     "metadata": {},
     "output_type": "execute_result"
    }
   ],
   "source": [
    "function maximize_like(x0=[0.8,1.0,-0.1],meth=NelderMead())\n",
    "    d = makeData\n",
    "    l(beta) = loglik(beta, d)\n",
    "    optimize(l(beta),x0)\n",
    "end"
   ]
  },
  {
   "cell_type": "code",
   "execution_count": 20,
   "metadata": {
    "collapsed": false
   },
   "outputs": [
    {
     "name": "stderr",
     "output_type": "stream",
     "text": [
      "WARNING: Method definition l(Any) in module Main at In[14]:2 overwritten at In[20]:2.\n"
     ]
    },
    {
     "ename": "LoadError",
     "evalue": "MethodError: no method matching loglik(::Base.Math.#beta, ::#makeData)",
     "output_type": "error",
     "traceback": [
      "MethodError: no method matching loglik(::Base.Math.#beta, ::#makeData)",
      "",
      " in l(::Function) at ./In[20]:2",
      " in execute_request(::ZMQ.Socket, ::IJulia.Msg) at /home/opmc/.julia/v0.5/IJulia/src/execute_request.jl:157",
      " in eventloop(::ZMQ.Socket) at /home/opmc/.julia/v0.5/IJulia/src/eventloop.jl:8",
      " in (::IJulia.##13#19)() at ./task.jl:360"
     ]
    }
   ],
   "source": [
    "d = makeData\n",
    "l(beta) = loglik(beta, d)\n",
    "optimize(l(beta),x0)"
   ]
  },
  {
   "cell_type": "code",
   "execution_count": null,
   "metadata": {
    "collapsed": true
   },
   "outputs": [],
   "source": []
  },
  {
   "cell_type": "code",
   "execution_count": null,
   "metadata": {
    "collapsed": true
   },
   "outputs": [],
   "source": []
  }
 ],
 "metadata": {
  "kernelspec": {
   "display_name": "Julia 0.5.0",
   "language": "julia",
   "name": "julia-0.5"
  },
  "language_info": {
   "file_extension": ".jl",
   "mimetype": "application/julia",
   "name": "julia",
   "version": "0.5.1"
  }
 },
 "nbformat": 4,
 "nbformat_minor": 0
}
